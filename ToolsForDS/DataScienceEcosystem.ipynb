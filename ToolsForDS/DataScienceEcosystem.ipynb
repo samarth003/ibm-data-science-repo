{
 "cells": [
  {
   "cell_type": "markdown",
   "id": "db47b22a-4b26-46ba-9fa5-00026a4708a2",
   "metadata": {},
   "source": [
    "# Data Science Tools and Ecosystem"
   ]
  },
  {
   "cell_type": "markdown",
   "id": "05652941-6560-4a87-b0f7-44eafa98eb97",
   "metadata": {},
   "source": [
    "In this notebook, Data Science Tools and Ecosystem are summarized."
   ]
  },
  {
   "cell_type": "markdown",
   "id": "dda4a0cd-d50a-4be9-bc25-f2b550c01f1d",
   "metadata": {},
   "source": [
    "Objectives:\n",
    "* List popular languages of Data science\n",
    "* List commonly used Data science libraries\n",
    "* List open source tools for Data science "
   ]
  },
  {
   "cell_type": "markdown",
   "id": "bd438bd0-55a8-4afd-a35d-64e849a89900",
   "metadata": {},
   "source": [
    "Some of the popular languages that Data Scientists use are:\n",
    "1. Python\n",
    "2. R\n",
    "3. SQL\n",
    "4. Scala\n",
    "5. Java\n",
    "6. Julia\n",
    "7. C++"
   ]
  },
  {
   "cell_type": "markdown",
   "id": "9559b21d-8df9-4248-b781-cff69a690a1b",
   "metadata": {},
   "source": [
    "Some of the commonly used libraries used by Data Scientists include:\n",
    "1. TensorFlow\n",
    "2. NumPy\n",
    "3. Pandas\n",
    "4. SciPy\n",
    "5. Matplotlib\n",
    "6. Keras\n",
    "7. Pytorch\n",
    "8. Scikit-learn"
   ]
  },
  {
   "cell_type": "markdown",
   "id": "0d81a692-91b0-4c44-beb9-29794c899dfb",
   "metadata": {},
   "source": [
    "|Data Science Tools|\n",
    "|------------------|\n",
    "| MongoDB |\n",
    "| Apache Airflow|\n",
    "| Kibana |"
   ]
  },
  {
   "cell_type": "markdown",
   "id": "48a163df-c76b-448c-bbca-c0ae7256a608",
   "metadata": {},
   "source": [
    "### Below are a few examples of evaluating arithmetic expressions in Python"
   ]
  },
  {
   "cell_type": "code",
   "execution_count": 5,
   "id": "1a5d1fe9-da2e-427b-8a09-28e9d718b551",
   "metadata": {},
   "outputs": [
    {
     "data": {
      "text/plain": [
       "17"
      ]
     },
     "execution_count": 5,
     "metadata": {},
     "output_type": "execute_result"
    }
   ],
   "source": [
    "# This a simple arithmetic expression to mutiply then add integers\n",
    "(3*4)+5"
   ]
  },
  {
   "cell_type": "code",
   "execution_count": 6,
   "id": "2db4b20d-1696-4e28-80bc-35134e1ebf3d",
   "metadata": {},
   "outputs": [
    {
     "data": {
      "text/plain": [
       "3.3333333333333335"
      ]
     },
     "execution_count": 6,
     "metadata": {},
     "output_type": "execute_result"
    }
   ],
   "source": [
    "# This will convert 200 minutes to hours by diving by 60\n",
    "200/60"
   ]
  },
  {
   "cell_type": "markdown",
   "id": "86ddb5b5-237c-4d58-b4a4-514487560e0a",
   "metadata": {},
   "source": [
    "## Author\n",
    "Samarth Kapoor"
   ]
  },
  {
   "cell_type": "code",
   "execution_count": null,
   "id": "9fac2580-a313-4ca0-a7c0-6436fae95289",
   "metadata": {},
   "outputs": [],
   "source": []
  }
 ],
 "metadata": {
  "kernelspec": {
   "display_name": "Python 3 (ipykernel)",
   "language": "python",
   "name": "python3"
  },
  "language_info": {
   "codemirror_mode": {
    "name": "ipython",
    "version": 3
   },
   "file_extension": ".py",
   "mimetype": "text/x-python",
   "name": "python",
   "nbconvert_exporter": "python",
   "pygments_lexer": "ipython3",
   "version": "3.11.7"
  }
 },
 "nbformat": 4,
 "nbformat_minor": 5
}
